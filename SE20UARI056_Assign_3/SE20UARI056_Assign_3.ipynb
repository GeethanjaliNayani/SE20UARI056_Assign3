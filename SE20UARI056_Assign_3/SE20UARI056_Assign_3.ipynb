{
  "nbformat": 4,
  "nbformat_minor": 0,
  "metadata": {
    "colab": {
      "provenance": []
    },
    "kernelspec": {
      "name": "python3",
      "display_name": "Python 3"
    },
    "language_info": {
      "name": "python"
    }
  },
  "cells": [
    {
      "cell_type": "code",
      "execution_count": 33,
      "metadata": {
        "id": "SE0THvNKJKYD"
      },
      "outputs": [],
      "source": [
        "def FCFS(processes):\n",
        "    n = len(processes)\n",
        "    wt = [0] * n\n",
        "    tat = [0] * n\n",
        "    completion_time = processes[0]['arrival_time']\n",
        "    for i in range(n):\n",
        "        if completion_time < processes[i]['arrival_time']:\n",
        "            completion_time = processes[i]['arrival_time']\n",
        "        wt[i] = completion_time - processes[i]['arrival_time']\n",
        "        completion_time += processes[i]['burst_time']\n",
        "        tat[i] = wt[i] + processes[i]['burst_time']\n",
        "    return wt, tat\n"
      ]
    },
    {
      "cell_type": "code",
      "source": [
        "def SJF(processes):\n",
        "    n = len(processes)\n",
        "    wt = [0] * n\n",
        "    tat = [0] * n\n",
        "    processes_sorted = sorted(processes, key=lambda x: (x['burst_time'], x['arrival_time']))\n",
        "    completion_time = processes_sorted[0]['arrival_time']\n",
        "    for i in range(n):\n",
        "        if completion_time < processes_sorted[i]['arrival_time']:\n",
        "            completion_time = processes_sorted[i]['arrival_time']\n",
        "        wt[processes.index(processes_sorted[i])] = completion_time - processes_sorted[i]['arrival_time']\n",
        "        completion_time += processes_sorted[i]['burst_time']\n",
        "        tat[processes.index(processes_sorted[i])] = wt[processes.index(processes_sorted[i])] + processes_sorted[i]['burst_time']\n",
        "    return wt, tat\n"
      ],
      "metadata": {
        "id": "ozQ-bqZsKg3k"
      },
      "execution_count": 34,
      "outputs": []
    },
    {
      "cell_type": "code",
      "source": [
        "def RR(processes, q=2):\n",
        "    n = len(processes)\n",
        "    wt = [0] * n\n",
        "    tat = [0] * n\n",
        "    processes_sorted = sorted(processes, key=lambda x: x['arrival_time'])\n",
        "    remaining_time = [p['burst_time'] for p in processes_sorted]\n",
        "    time = processes_sorted[0]['arrival_time']\n",
        "    while True:\n",
        "        done = True\n",
        "        for i in range(n):\n",
        "            if remaining_time[i] > 0:\n",
        "                done = False\n",
        "                if remaining_time[i] > q:\n",
        "                    time += q\n",
        "                    remaining_time[i] -= q\n",
        "                else:\n",
        "                    time += remaining_time[i]\n",
        "                    tat[processes.index(processes_sorted[i])] = time - processes_sorted[i]['arrival_time']\n",
        "                    wt[processes.index(processes_sorted[i])] = tat[processes.index(processes_sorted[i])] - processes_sorted[i]['burst_time']\n",
        "                    remaining_time[i] = 0\n",
        "        if done:\n",
        "            break\n",
        "    return wt, tat\n"
      ],
      "metadata": {
        "id": "Z1Vlc84wKqZH"
      },
      "execution_count": 35,
      "outputs": []
    },
    {
      "cell_type": "code",
      "source": [
        "def PS(processes):\n",
        "    n = len(processes)\n",
        "    wt = [0] * n\n",
        "    tat = [0] * n\n",
        "    processes_sorted = sorted(processes, key=lambda x: (x['priority'], x['arrival_time']))\n",
        "    completion_time = processes_sorted[0]['arrival_time']\n",
        "    for i in range(n):\n",
        "        if completion_time < processes_sorted[i]['arrival_time']:\n",
        "            completion_time = processes_sorted[i]['arrival_time']\n",
        "        wt[processes.index(processes_sorted[i])] = completion_time - processes_sorted[i]['arrival_time']\n",
        "        completion_time += processes_sorted[i]['burst_time']\n",
        "        tat[processes.index(processes_sorted[i])] = wt[processes.index(processes_sorted[i])] + processes_sorted[i]['burst_time']\n",
        "    return wt, tat\n"
      ],
      "metadata": {
        "id": "qGxl_KzpKwhX"
      },
      "execution_count": 36,
      "outputs": []
    },
    {
      "cell_type": "code",
      "source": [
        "processes = [\n",
        "    {\"name\": \"P1\", \"arrival_time\": 0, \"burst_time\": 24, \"priority\": 3},\n",
        "    {\"name\": \"P2\", \"arrival_time\": 4, \"burst_time\": 3, \"priority\": 1},\n",
        "    {\"name\": \"P3\", \"arrival_time\": 5, \"burst_time\": 3, \"priority\": 4},\n",
        "    {\"name\": \"P4\", \"arrival_time\": 6, \"burst_time\": 12, \"priority\": 2}\n",
        "\n",
        "]\n"
      ],
      "metadata": {
        "id": "RoCZ2BK9KzvN"
      },
      "execution_count": 37,
      "outputs": []
    },
    {
      "cell_type": "code",
      "source": [
        "print(\"FCFS:\", FCFS(processes))\n",
        "print(\"SJF:\", SJF(processes))\n",
        "print(\"RR:\", RR(processes))\n",
        "print(\"PS:\", PS(processes))"
      ],
      "metadata": {
        "colab": {
          "base_uri": "https://localhost:8080/"
        },
        "id": "hd4KFBxELE08",
        "outputId": "32650a04-5675-4f00-f864-adfa3c137664"
      },
      "execution_count": 38,
      "outputs": [
        {
          "output_type": "stream",
          "name": "stdout",
          "text": [
            "FCFS: ([0, 20, 22, 24], [24, 23, 25, 36])\n",
            "SJF: ([22, 0, 2, 4], [46, 3, 5, 16])\n",
            "RR: ([18, 4, 4, 12], [42, 7, 7, 24])\n",
            "PS: ([19, 0, 38, 1], [43, 3, 41, 13])\n"
          ]
        }
      ]
    },
    {
      "cell_type": "code",
      "source": [
        "def average_time(times):\n",
        "    return sum(times) / len(times)\n",
        "\n"
      ],
      "metadata": {
        "id": "oTtIvBCELKS8"
      },
      "execution_count": 39,
      "outputs": []
    },
    {
      "cell_type": "code",
      "source": [
        "\n",
        "fcfs_wt_avg = average_time([0, 20, 22, 24])\n",
        "print(\"FCFS_WT:\", fcfs_wt_avg)\n",
        "fcfs_tat_avg = average_time([24, 23, 25, 36])\n",
        "print(\"FCFS_TAT:\", fcfs_tat_avg)\n"
      ],
      "metadata": {
        "colab": {
          "base_uri": "https://localhost:8080/"
        },
        "id": "3EoMlm1gNqT3",
        "outputId": "71f31849-7086-44d5-b243-2037efee8d17"
      },
      "execution_count": 40,
      "outputs": [
        {
          "output_type": "stream",
          "name": "stdout",
          "text": [
            "FCFS_WT: 16.5\n",
            "FCFS_TAT: 27.0\n"
          ]
        }
      ]
    },
    {
      "cell_type": "code",
      "source": [
        "\n",
        "SJF_wt_avg = average_time([22, 0, 2, 4])\n",
        "print(\"SJF_WT:\", SJF_wt_avg)\n",
        "SJF_tat_avg = average_time([46, 3, 5, 16])\n",
        "print(\"SJF_TAT:\", SJF_tat_avg)\n",
        "\n"
      ],
      "metadata": {
        "colab": {
          "base_uri": "https://localhost:8080/"
        },
        "id": "7Klm-s1pNr4N",
        "outputId": "45de8e1f-2a34-4aca-bf7a-2dc61e0a1234"
      },
      "execution_count": 41,
      "outputs": [
        {
          "output_type": "stream",
          "name": "stdout",
          "text": [
            "SJF_WT: 7.0\n",
            "SJF_TAT: 17.5\n"
          ]
        }
      ]
    },
    {
      "cell_type": "code",
      "source": [
        "rr_wt_avg = average_time([18, 4, 4, 12])\n",
        "print(\"RR_WT:\", rr_wt_avg)\n",
        "rr_tat_avg = average_time([42, 7, 7, 24])\n",
        "print(\"RR_TAT:\", rr_tat_avg)\n",
        "\n"
      ],
      "metadata": {
        "colab": {
          "base_uri": "https://localhost:8080/"
        },
        "id": "7cKM9GdaOcvP",
        "outputId": "99aeeb16-44d7-4679-ea2b-2a6547ab4f09"
      },
      "execution_count": 42,
      "outputs": [
        {
          "output_type": "stream",
          "name": "stdout",
          "text": [
            "RR_WT: 9.5\n",
            "RR_TAT: 20.0\n"
          ]
        }
      ]
    },
    {
      "cell_type": "code",
      "source": [
        "ps_wt_avg = average_time([19, 0, 38, 1])\n",
        "print(\"PS_WT:\", ps_wt_avg)\n",
        "ps_tat_avg = average_time([43, 3, 41, 13])\n",
        "print(\"PS_TAT:\", ps_tat_avg)"
      ],
      "metadata": {
        "colab": {
          "base_uri": "https://localhost:8080/"
        },
        "id": "knDNJIujOu-H",
        "outputId": "1ee9157f-7061-4111-eb37-54331905bd8a"
      },
      "execution_count": 43,
      "outputs": [
        {
          "output_type": "stream",
          "name": "stdout",
          "text": [
            "PS_WT: 14.5\n",
            "PS_TAT: 25.0\n"
          ]
        }
      ]
    },
    {
      "cell_type": "code",
      "source": [],
      "metadata": {
        "id": "2loylt1DO4G2"
      },
      "execution_count": null,
      "outputs": []
    }
  ]
}